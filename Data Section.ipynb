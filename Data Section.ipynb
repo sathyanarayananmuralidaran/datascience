{
    "cells": [
        {
            "cell_type": "markdown",
            "metadata": {
                "collapsed": true
            },
            "source": "# Applied Data Science Capstone project\n## Event locator for the data scientist meet - 2021 in Los Angeles:\n### By Sathya Narayanan Muralidaran\n<hr>\n\n<B>Data Selection:</B>\n\nBy Using Four Square API, we need to identify the Hotel,Restaurant,Parks and Shopping malls in Los Angeles.Then after applying data cleaning activities,all the data are combined,clustered and visualized using Folium\n\n* Libraries Import\n* Using Foursquare credentials publishing connections with Foursquare API by passing the necessary parameters\n* Collecting data for Hotels\n* Creating Data frames for Hotels,Restaurants,Parks and Shopping Malls\n* Removing unwanted Columns for Hotels,Restaurants,Parks and Shopping Malls\n* Deleting Blank or NAN rows and also ensure no duplicates\n* Repeat the above 4 steps for Restaurants,Parks and Shopping Malls\n* Consolidate the all the data and visualize the same in folium map."
        },
        {
            "cell_type": "code",
            "execution_count": null,
            "metadata": {},
            "outputs": [],
            "source": ""
        }
    ],
    "metadata": {
        "kernelspec": {
            "display_name": "Python 3.6",
            "language": "python",
            "name": "python3"
        },
        "language_info": {
            "codemirror_mode": {
                "name": "ipython",
                "version": 3
            },
            "file_extension": ".py",
            "mimetype": "text/x-python",
            "name": "python",
            "nbconvert_exporter": "python",
            "pygments_lexer": "ipython3",
            "version": "3.6.9"
        }
    },
    "nbformat": 4,
    "nbformat_minor": 1
}