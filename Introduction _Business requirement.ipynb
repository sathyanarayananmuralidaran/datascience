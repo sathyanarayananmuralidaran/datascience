{
    "cells": [
        {
            "cell_type": "markdown",
            "metadata": {
                "collapsed": true
            },
            "source": "# Applied Data Science Capstone project\n## Event locator for the data scientist meet - 2021 in Los Angeles:\n### By Sathya Narayanan Muralidaran\n<hr>\n<B>Project Description:</B>\n\nA company in California was planning to set up a Data Science Annual meet in 2020.But due to Covid 19,they planned for online meeting.\nHence they come up with the new proposal for the year 2021 with an idea of 5 day event and inorder to engage the people differently with multiple activities during their freetime,venue needs to be planned accordingly.Now the challenge is to choose the right spot where people can engage their lesure times in Restaurants,Parks and shopping malls.Hence the venue should give some idea of choosing the right places nearby.\n"
        },
        {
            "cell_type": "code",
            "execution_count": null,
            "metadata": {},
            "outputs": [],
            "source": ""
        },
        {
            "cell_type": "code",
            "execution_count": null,
            "metadata": {},
            "outputs": [],
            "source": ""
        }
    ],
    "metadata": {
        "kernelspec": {
            "display_name": "Python 3.6",
            "language": "python",
            "name": "python3"
        },
        "language_info": {
            "codemirror_mode": {
                "name": "ipython",
                "version": 3
            },
            "file_extension": ".py",
            "mimetype": "text/x-python",
            "name": "python",
            "nbconvert_exporter": "python",
            "pygments_lexer": "ipython3",
            "version": "3.6.9"
        }
    },
    "nbformat": 4,
    "nbformat_minor": 1
}